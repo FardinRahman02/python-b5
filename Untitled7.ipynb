{
  "nbformat": 4,
  "nbformat_minor": 0,
  "metadata": {
    "colab": {
      "provenance": [],
      "authorship_tag": "ABX9TyOyQaHcnHIYTMt9YOJKe29v",
      "include_colab_link": true
    },
    "kernelspec": {
      "name": "python3",
      "display_name": "Python 3"
    },
    "language_info": {
      "name": "python"
    }
  },
  "cells": [
    {
      "cell_type": "markdown",
      "metadata": {
        "id": "view-in-github",
        "colab_type": "text"
      },
      "source": [
        "<a href=\"https://colab.research.google.com/github/FardinRahman02/python-b5/blob/main/Untitled7.ipynb\" target=\"_parent\"><img src=\"https://colab.research.google.com/assets/colab-badge.svg\" alt=\"Open In Colab\"/></a>"
      ]
    },
    {
      "cell_type": "code",
      "execution_count": null,
      "metadata": {
        "id": "S81Scp2rWG9G"
      },
      "outputs": [],
      "source": [
        "li = [i for i in range(10)]\n",
        "print(li)\n",
        "li1= li[:2]+li[3:]\n",
        "print(li1)\n",
        "\n"
      ]
    },
    {
      "cell_type": "code",
      "source": [
        "[str(c)+\"=\"+chr(c) for c in range(ord('a'), ord('z')+1) if c%2==0]\n"
      ],
      "metadata": {
        "colab": {
          "base_uri": "https://localhost:8080/"
        },
        "id": "zi42Sav_WUKu",
        "outputId": "04bdec5f-1b97-4cde-c34b-1ed0e2dee93c"
      },
      "execution_count": 1,
      "outputs": [
        {
          "output_type": "execute_result",
          "data": {
            "text/plain": [
              "['98=b',\n",
              " '100=d',\n",
              " '102=f',\n",
              " '104=h',\n",
              " '106=j',\n",
              " '108=l',\n",
              " '110=n',\n",
              " '112=p',\n",
              " '114=r',\n",
              " '116=t',\n",
              " '118=v',\n",
              " '120=x',\n",
              " '122=z']"
            ]
          },
          "metadata": {},
          "execution_count": 1
        }
      ]
    },
    {
      "cell_type": "code",
      "source": [
        "# Way 1: USing set()\n",
        "li = [i for i in range(10)]\n",
        "print(li)\n",
        "li1= li[:2]+li[3:]\n",
        "print(li1)\n",
        "\n",
        "# Find the missing element\n",
        "missing_element = set(li) - set(li1)\n",
        "print(f\"The missing element is: {missing_element.pop()}\")\n",
        "\n",
        "## Way 2: Alternative Way\n",
        "li = [i for i in range(10)]\n",
        "print(f\"Original list: {li}\")\n",
        "li1 = li[:2] + li[3:]\n",
        "print(f\"Modified list: {li1}\")\n",
        "\n",
        "# Find the missing element using a for loop\n",
        "missing_element = None\n",
        "\n",
        "for item in li:\n",
        "    if item not in li1:\n",
        "        missing_element = item\n",
        "        break  # Exit the loop as soon as the missing element is found\n",
        "\n",
        "print(f\"The missing element is: {missing_element}\")"
      ],
      "metadata": {
        "colab": {
          "base_uri": "https://localhost:8080/"
        },
        "id": "dTCMpzlhZuB5",
        "outputId": "14115ae7-693d-4fc0-b3f4-d9d0818f796d"
      },
      "execution_count": 2,
      "outputs": [
        {
          "output_type": "stream",
          "name": "stdout",
          "text": [
            "[0, 1, 2, 3, 4, 5, 6, 7, 8, 9]\n",
            "[0, 1, 3, 4, 5, 6, 7, 8, 9]\n",
            "The missing element is: 2\n",
            "Original list: [0, 1, 2, 3, 4, 5, 6, 7, 8, 9]\n",
            "Modified list: [0, 1, 3, 4, 5, 6, 7, 8, 9]\n",
            "The missing element is: 2\n"
          ]
        }
      ]
    },
    {
      "cell_type": "code",
      "source": [
        "def addComplex( z1, z2):\n",
        "    return z1 + z2\n",
        "\n",
        "li1 = [complex(_,2+_) for _ in range(6)]\n",
        "li2 = [complex(_,2+_) for _ in range(2,14,2)]\n",
        "\n",
        "li3 = []\n",
        "for i,j in zip(li1,li2):\n",
        "    li3.append(addComplex(i,j))\n",
        "\n",
        "print(f\"li1 = {li1}\\nli2 = {li2}\\nli3= {li3}\")\n",
        "enc_mess = bytes(str(li3).encode('utf-16'))\n",
        "\n",
        "print(f\"Encoded Message Size of type{type(enc_mess)}: \",sys.getsizeof(enc_mess))\n",
        "print(f\"List Size of type{type(li3)}: \",sys.getsizeof(li3))\n",
        "print(f\"Encoded Message Size of type{type(str(li3))}: \",sys.getsizeof(str(li3)))\n",
        "print(\"Original list after addition\", li3)\n",
        "print(f\"Encoded Message: {enc_mess}\")\n",
        "\n",
        "#print(bytes(str(li3), 'utf-16'))\n"
      ],
      "metadata": {
        "colab": {
          "base_uri": "https://localhost:8080/",
          "height": 274
        },
        "id": "LHNRrN2_Z0G3",
        "outputId": "d0848c97-11cd-40e6-d1cb-11f8fa86cfc4"
      },
      "execution_count": 3,
      "outputs": [
        {
          "output_type": "stream",
          "name": "stdout",
          "text": [
            "li1 = [2j, (1+3j), (2+4j), (3+5j), (4+6j), (5+7j)]\n",
            "li2 = [(2+4j), (4+6j), (6+8j), (8+10j), (10+12j), (12+14j)]\n",
            "li3= [(2+6j), (5+9j), (8+12j), (11+15j), (14+18j), (17+21j)]\n"
          ]
        },
        {
          "output_type": "error",
          "ename": "NameError",
          "evalue": "name 'sys' is not defined",
          "traceback": [
            "\u001b[0;31m---------------------------------------------------------------------------\u001b[0m",
            "\u001b[0;31mNameError\u001b[0m                                 Traceback (most recent call last)",
            "\u001b[0;32m<ipython-input-3-169f0509f0fa>\u001b[0m in \u001b[0;36m<cell line: 0>\u001b[0;34m()\u001b[0m\n\u001b[1;32m     12\u001b[0m \u001b[0menc_mess\u001b[0m \u001b[0;34m=\u001b[0m \u001b[0mbytes\u001b[0m\u001b[0;34m(\u001b[0m\u001b[0mstr\u001b[0m\u001b[0;34m(\u001b[0m\u001b[0mli3\u001b[0m\u001b[0;34m)\u001b[0m\u001b[0;34m.\u001b[0m\u001b[0mencode\u001b[0m\u001b[0;34m(\u001b[0m\u001b[0;34m'utf-16'\u001b[0m\u001b[0;34m)\u001b[0m\u001b[0;34m)\u001b[0m\u001b[0;34m\u001b[0m\u001b[0;34m\u001b[0m\u001b[0m\n\u001b[1;32m     13\u001b[0m \u001b[0;34m\u001b[0m\u001b[0m\n\u001b[0;32m---> 14\u001b[0;31m \u001b[0mprint\u001b[0m\u001b[0;34m(\u001b[0m\u001b[0;34mf\"Encoded Message Size of type{type(enc_mess)}: \"\u001b[0m\u001b[0;34m,\u001b[0m\u001b[0msys\u001b[0m\u001b[0;34m.\u001b[0m\u001b[0mgetsizeof\u001b[0m\u001b[0;34m(\u001b[0m\u001b[0menc_mess\u001b[0m\u001b[0;34m)\u001b[0m\u001b[0;34m)\u001b[0m\u001b[0;34m\u001b[0m\u001b[0;34m\u001b[0m\u001b[0m\n\u001b[0m\u001b[1;32m     15\u001b[0m \u001b[0mprint\u001b[0m\u001b[0;34m(\u001b[0m\u001b[0;34mf\"List Size of type{type(li3)}: \"\u001b[0m\u001b[0;34m,\u001b[0m\u001b[0msys\u001b[0m\u001b[0;34m.\u001b[0m\u001b[0mgetsizeof\u001b[0m\u001b[0;34m(\u001b[0m\u001b[0mli3\u001b[0m\u001b[0;34m)\u001b[0m\u001b[0;34m)\u001b[0m\u001b[0;34m\u001b[0m\u001b[0;34m\u001b[0m\u001b[0m\n\u001b[1;32m     16\u001b[0m \u001b[0mprint\u001b[0m\u001b[0;34m(\u001b[0m\u001b[0;34mf\"Encoded Message Size of type{type(str(li3))}: \"\u001b[0m\u001b[0;34m,\u001b[0m\u001b[0msys\u001b[0m\u001b[0;34m.\u001b[0m\u001b[0mgetsizeof\u001b[0m\u001b[0;34m(\u001b[0m\u001b[0mstr\u001b[0m\u001b[0;34m(\u001b[0m\u001b[0mli3\u001b[0m\u001b[0;34m)\u001b[0m\u001b[0;34m)\u001b[0m\u001b[0;34m)\u001b[0m\u001b[0;34m\u001b[0m\u001b[0;34m\u001b[0m\u001b[0m\n",
            "\u001b[0;31mNameError\u001b[0m: name 'sys' is not defined"
          ]
        }
      ]
    },
    {
      "cell_type": "code",
      "source": [
        "import sys\n",
        "\n",
        "class ComplexOperations:\n",
        "    def __init__(self):\n",
        "        # Initialize lists\n",
        "        self.li1 = [complex(_, 2 + _) for _ in range(6)]\n",
        "        self.li2 = [complex(_, 2 + _) for _ in range(2, 14, 2)]\n",
        "        self.li3 = []\n",
        "\n",
        "    # Non-static method to add two complex numbers\n",
        "    def add_complex(self, z1, z2):\n",
        "        return z1 + z2\n",
        "\n",
        "    # Non-static method to generate the resulting list\n",
        "    def compute_result(self):\n",
        "        for i, j in zip(self.li1, self.li2):\n",
        "            self.li3.append(self.add_complex(i, j))\n",
        "\n",
        "    # Static method to calculate memory size\n",
        "    @staticmethod\n",
        "    def calculate_size(obj, encoding='utf-16'):\n",
        "        if isinstance(obj, str):\n",
        "            encoded_obj = obj.encode(encoding)\n",
        "            return sys.getsizeof(encoded_obj), encoded_obj\n",
        "        return sys.getsizeof(obj)\n",
        "\n",
        "    # Non-static method to display results\n",
        "    def display_results(self):\n",
        "        print(f\"li1 = {self.li1}\\nli2 = {self.li2}\\nli3 = {self.li3}\")\n",
        "        encoded_message = str(self.li3)\n",
        "        enc_size, enc_obj = ComplexOperations.calculate_size(encoded_message)\n",
        "        list_size = ComplexOperations.calculate_size(self.li3)\n",
        "\n",
        "        print(f\"Encoded Message Size (type: {type(enc_obj)}): {enc_size}\")\n",
        "        print(f\"List Size (type: {type(self.li3)}): {list_size}\")\n",
        "        print(f\"Encoded Message: {enc_obj}\")\n",
        "        print(\"Original list after addition:\", self.li3)\n",
        "\n",
        "# Main method\n",
        "def main():\n",
        "    # Create an object of ComplexOperations\n",
        "    complex_ops = ComplexOperations()\n",
        "\n",
        "    # Compute the result\n",
        "    complex_ops.compute_result()\n",
        "\n",
        "    # Display results\n",
        "    complex_ops.display_results()\n",
        "\n",
        "# Entry point\n",
        "if __name__ == \"__main__\":\n",
        "    main()"
      ],
      "metadata": {
        "colab": {
          "base_uri": "https://localhost:8080/"
        },
        "id": "gnztCPRlZ-xG",
        "outputId": "0a03c866-df3a-4319-c40d-bd468b83d0d1"
      },
      "execution_count": 4,
      "outputs": [
        {
          "output_type": "stream",
          "name": "stdout",
          "text": [
            "li1 = [2j, (1+3j), (2+4j), (3+5j), (4+6j), (5+7j)]\n",
            "li2 = [(2+4j), (4+6j), (6+8j), (8+10j), (10+12j), (12+14j)]\n",
            "li3 = [(2+6j), (5+9j), (8+12j), (11+15j), (14+18j), (17+21j)]\n",
            "Encoded Message Size (type: <class 'bytes'>): 145\n",
            "List Size (type: <class 'list'>): 120\n",
            "Encoded Message: b'\\xff\\xfe[\\x00(\\x002\\x00+\\x006\\x00j\\x00)\\x00,\\x00 \\x00(\\x005\\x00+\\x009\\x00j\\x00)\\x00,\\x00 \\x00(\\x008\\x00+\\x001\\x002\\x00j\\x00)\\x00,\\x00 \\x00(\\x001\\x001\\x00+\\x001\\x005\\x00j\\x00)\\x00,\\x00 \\x00(\\x001\\x004\\x00+\\x001\\x008\\x00j\\x00)\\x00,\\x00 \\x00(\\x001\\x007\\x00+\\x002\\x001\\x00j\\x00)\\x00]\\x00'\n",
            "Original list after addition: [(2+6j), (5+9j), (8+12j), (11+15j), (14+18j), (17+21j)]\n"
          ]
        }
      ]
    }
  ]
}