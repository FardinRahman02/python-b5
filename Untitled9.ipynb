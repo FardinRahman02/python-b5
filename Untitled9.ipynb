{
  "nbformat": 4,
  "nbformat_minor": 0,
  "metadata": {
    "colab": {
      "provenance": [],
      "authorship_tag": "ABX9TyORl1g5uS0HCzVEGJ9MkYUX",
      "include_colab_link": true
    },
    "kernelspec": {
      "name": "python3",
      "display_name": "Python 3"
    },
    "language_info": {
      "name": "python"
    }
  },
  "cells": [
    {
      "cell_type": "markdown",
      "metadata": {
        "id": "view-in-github",
        "colab_type": "text"
      },
      "source": [
        "<a href=\"https://colab.research.google.com/github/FardinRahman02/python-b5/blob/main/Untitled9.ipynb\" target=\"_parent\"><img src=\"https://colab.research.google.com/assets/colab-badge.svg\" alt=\"Open In Colab\"/></a>"
      ]
    },
    {
      "cell_type": "code",
      "execution_count": 1,
      "metadata": {
        "colab": {
          "base_uri": "https://localhost:8080/",
          "height": 401
        },
        "id": "1mx4GHbqeSjA",
        "outputId": "6ed270fc-f268-4a36-aefd-bbacd805ae84"
      },
      "outputs": [
        {
          "output_type": "error",
          "ename": "ModuleNotFoundError",
          "evalue": "No module named 'SimCal'",
          "traceback": [
            "\u001b[0;31m---------------------------------------------------------------------------\u001b[0m",
            "\u001b[0;31mModuleNotFoundError\u001b[0m                       Traceback (most recent call last)",
            "\u001b[0;32m<ipython-input-1-74dfebb0e64f>\u001b[0m in \u001b[0;36m<cell line: 0>\u001b[0;34m()\u001b[0m\n\u001b[1;32m     21\u001b[0m \u001b[0;31m#TestCal.py\u001b[0m\u001b[0;34m\u001b[0m\u001b[0;34m\u001b[0m\u001b[0m\n\u001b[1;32m     22\u001b[0m \u001b[0;34m\u001b[0m\u001b[0m\n\u001b[0;32m---> 23\u001b[0;31m \u001b[0;32mimport\u001b[0m \u001b[0mSimCal\u001b[0m \u001b[0;32mas\u001b[0m \u001b[0ms\u001b[0m\u001b[0;34m\u001b[0m\u001b[0;34m\u001b[0m\u001b[0m\n\u001b[0m\u001b[1;32m     24\u001b[0m \u001b[0;34m\u001b[0m\u001b[0m\n\u001b[1;32m     25\u001b[0m \u001b[0;32mwhile\u001b[0m \u001b[0;32mTrue\u001b[0m\u001b[0;34m:\u001b[0m\u001b[0;34m\u001b[0m\u001b[0;34m\u001b[0m\u001b[0m\n",
            "\u001b[0;31mModuleNotFoundError\u001b[0m: No module named 'SimCal'",
            "",
            "\u001b[0;31m---------------------------------------------------------------------------\u001b[0;32m\nNOTE: If your import is failing due to a missing package, you can\nmanually install dependencies using either !pip or !apt.\n\nTo view examples of installing some common dependencies, click the\n\"Open Examples\" button below.\n\u001b[0;31m---------------------------------------------------------------------------\u001b[0m\n"
          ],
          "errorDetails": {
            "actions": [
              {
                "action": "open_url",
                "actionText": "Open Examples",
                "url": "/notebooks/snippets/importing_libraries.ipynb"
              }
            ]
          }
        }
      ],
      "source": [
        "# SimCal.py\n",
        "\n",
        "def add(a, b):\n",
        "  return a+b\n",
        "\n",
        "def sub(a, b):\n",
        "  if a > b:\n",
        "    return a-b\n",
        "  else:\n",
        "    return b-a\n",
        "\n",
        "def mul(a, b):\n",
        "  return a * b\n",
        "\n",
        "def div(a,b):\n",
        "  if b!=0:\n",
        "   return a/b\n",
        "  else:\n",
        "   return \"Infinity\"\n",
        "\n",
        "#TestCal.py\n",
        "\n",
        "import SimCal as s\n",
        "\n",
        "while True:\n",
        "  print(\"Enter 1 to add, \\n2 to subtract, \\n3 to multiplication and \\n4 for division\\n 0 to exit\")\n",
        "\n",
        "  choice = int(input(\"Your Choice:\"))\n",
        "\n",
        "  if choice ==0:\n",
        "     break\n",
        "\n",
        "  if choice==1:\n",
        "     a = int(input(\"Enter a:\"))\n",
        "     b = int(input(\"Enter b:\"))\n",
        "     print(s.add(a,b))\n",
        "  if choice==2:\n",
        "     a = int(input(\"Enter a:\"))\n",
        "     b = int(input(\"Enter b:\"))\n",
        "     print(s.sub(a,b))\n",
        "  if choice==3:\n",
        "     a = int(input(\"Enter a:\"))\n",
        "     b = int(input(\"Enter b:\"))\n",
        "     print(s.mul(a,b))\n",
        "  if choice==4:\n",
        "     a = int(input(\"Enter a:\"))\n",
        "     b = int(input(\"Enter b:\"))\n",
        "     print(s.div(a,b))\n",
        ""
      ]
    }
  ]
}