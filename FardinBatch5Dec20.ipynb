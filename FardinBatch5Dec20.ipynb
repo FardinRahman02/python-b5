{
  "nbformat": 4,
  "nbformat_minor": 0,
  "metadata": {
    "colab": {
      "provenance": [],
      "authorship_tag": "ABX9TyOxdGqZGJa3zT/MPTuRqUtl",
      "include_colab_link": true
    },
    "kernelspec": {
      "name": "python3",
      "display_name": "Python 3"
    },
    "language_info": {
      "name": "python"
    }
  },
  "cells": [
    {
      "cell_type": "markdown",
      "metadata": {
        "id": "view-in-github",
        "colab_type": "text"
      },
      "source": [
        "<a href=\"https://colab.research.google.com/github/FardinRahman02/python-b5/blob/main/FardinBatch5Dec20.ipynb\" target=\"_parent\"><img src=\"https://colab.research.google.com/assets/colab-badge.svg\" alt=\"Open In Colab\"/></a>"
      ]
    },
    {
      "cell_type": "markdown",
      "source": [
        "Data Type: Bytes"
      ],
      "metadata": {
        "id": "Kb8zrZ287kQI"
      }
    },
    {
      "cell_type": "code",
      "execution_count": 1,
      "metadata": {
        "colab": {
          "base_uri": "https://localhost:8080/"
        },
        "id": "18kSXkLp7jT5",
        "outputId": "10cedb55-550c-40bd-f0bf-2cb9baec72fd"
      },
      "outputs": [
        {
          "output_type": "stream",
          "name": "stdout",
          "text": [
            "b'\\x00\\x00\\x00\\x00\\x00'\n",
            "<class 'bytes'>\n"
          ]
        }
      ],
      "source": [
        "x = bytes(5)\n",
        "\n",
        "#display x:\n",
        "print(x)\n",
        "\n",
        "#display the data type of x:\n",
        "print(type(x))\n"
      ]
    },
    {
      "cell_type": "markdown",
      "source": [
        "Data Type: Range"
      ],
      "metadata": {
        "id": "nyqBERRG8J1P"
      }
    },
    {
      "cell_type": "code",
      "source": [
        "x = range(6)\n",
        "\n",
        "#display x:\n",
        "print(x)\n",
        "\n",
        "#display the data type of x:\n",
        "print(type(x))\n"
      ],
      "metadata": {
        "colab": {
          "base_uri": "https://localhost:8080/"
        },
        "id": "zj-_kB0j8JHA",
        "outputId": "f48cf196-9aca-4187-d9eb-ed1ce2434186"
      },
      "execution_count": 2,
      "outputs": [
        {
          "output_type": "stream",
          "name": "stdout",
          "text": [
            "range(0, 6)\n",
            "<class 'range'>\n"
          ]
        }
      ]
    },
    {
      "cell_type": "markdown",
      "source": [
        "Data Type: List"
      ],
      "metadata": {
        "id": "jcm425WM8i4h"
      }
    },
    {
      "cell_type": "code",
      "source": [
        "x = list((\"apple\", \"banana\", \"cherry\"))\n",
        "\n",
        "#display x:\n",
        "print(x)\n",
        "\n",
        "#display the data type of x:\n",
        "print(type(x))\n"
      ],
      "metadata": {
        "colab": {
          "base_uri": "https://localhost:8080/"
        },
        "id": "Bi4lhWKx8iUf",
        "outputId": "f609eca9-8c05-4e94-c4e8-d65788c8d648"
      },
      "execution_count": 3,
      "outputs": [
        {
          "output_type": "stream",
          "name": "stdout",
          "text": [
            "['apple', 'banana', 'cherry']\n",
            "<class 'list'>\n"
          ]
        }
      ]
    }
  ]
}