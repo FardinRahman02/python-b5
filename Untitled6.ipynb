{
  "nbformat": 4,
  "nbformat_minor": 0,
  "metadata": {
    "colab": {
      "provenance": [],
      "authorship_tag": "ABX9TyOnkTWq+tRr0EFlKOivcLP1",
      "include_colab_link": true
    },
    "kernelspec": {
      "name": "python3",
      "display_name": "Python 3"
    },
    "language_info": {
      "name": "python"
    }
  },
  "cells": [
    {
      "cell_type": "markdown",
      "metadata": {
        "id": "view-in-github",
        "colab_type": "text"
      },
      "source": [
        "<a href=\"https://colab.research.google.com/github/FardinRahman02/python-b5/blob/main/Untitled6.ipynb\" target=\"_parent\"><img src=\"https://colab.research.google.com/assets/colab-badge.svg\" alt=\"Open In Colab\"/></a>"
      ]
    },
    {
      "cell_type": "markdown",
      "source": [
        "Python Casting"
      ],
      "metadata": {
        "id": "mdDExWLUOoAf"
      }
    },
    {
      "cell_type": "code",
      "execution_count": 1,
      "metadata": {
        "colab": {
          "base_uri": "https://localhost:8080/"
        },
        "id": "lmsVOqzwOOcy",
        "outputId": "52d3b50a-04b0-4c85-bf1a-faa1cba5b063"
      },
      "outputs": [
        {
          "output_type": "stream",
          "name": "stdout",
          "text": [
            "1\n",
            "2\n",
            "3\n"
          ]
        }
      ],
      "source": [
        "x = int(1)\n",
        "y = int(2.8)\n",
        "z = int(\"3\")\n",
        "print(x)\n",
        "print(y)\n",
        "print(z)\n"
      ]
    },
    {
      "cell_type": "code",
      "source": [
        "x = float(1)\n",
        "y = float(2.8)\n",
        "z = float(\"3\")\n",
        "w = float(\"4.2\")\n",
        "print(x)\n",
        "print(y)\n",
        "print(z)\n",
        "print(w)\n"
      ],
      "metadata": {
        "colab": {
          "base_uri": "https://localhost:8080/"
        },
        "id": "mGPlMkhzOscg",
        "outputId": "7adea6c0-42b8-42b9-d954-e32124de588b"
      },
      "execution_count": 2,
      "outputs": [
        {
          "output_type": "stream",
          "name": "stdout",
          "text": [
            "1.0\n",
            "2.8\n",
            "3.0\n",
            "4.2\n"
          ]
        }
      ]
    },
    {
      "cell_type": "code",
      "source": [
        "x = str(\"s1\")\n",
        "y = str(2)\n",
        "z = str(3.0)\n",
        "print(x)\n",
        "print(y)\n",
        "print(z)\n"
      ],
      "metadata": {
        "colab": {
          "base_uri": "https://localhost:8080/"
        },
        "id": "9nhEme_KO-WI",
        "outputId": "f22be6db-85a3-48e5-f74e-8d9e683a084c"
      },
      "execution_count": 3,
      "outputs": [
        {
          "output_type": "stream",
          "name": "stdout",
          "text": [
            "s1\n",
            "2\n",
            "3.0\n"
          ]
        }
      ]
    },
    {
      "cell_type": "markdown",
      "source": [
        "Python String\n"
      ],
      "metadata": {
        "id": "vbUgs-mrPA5n"
      }
    },
    {
      "cell_type": "code",
      "source": [
        "a = \"Hello\"\n",
        "print(a)\n"
      ],
      "metadata": {
        "colab": {
          "base_uri": "https://localhost:8080/"
        },
        "id": "sbVbQ-YqPM3h",
        "outputId": "af9de12b-d7bb-45f3-bf2c-547910f52630"
      },
      "execution_count": 4,
      "outputs": [
        {
          "output_type": "stream",
          "name": "stdout",
          "text": [
            "Hello\n"
          ]
        }
      ]
    },
    {
      "cell_type": "markdown",
      "source": [
        "Python Boolean"
      ],
      "metadata": {
        "id": "vCMcS2AfPVHY"
      }
    },
    {
      "cell_type": "code",
      "source": [
        "print(10 > 9)\n",
        "print(10 == 9)\n",
        "print(10 < 9)\n"
      ],
      "metadata": {
        "colab": {
          "base_uri": "https://localhost:8080/"
        },
        "id": "lFsti1v5PYPP",
        "outputId": "06d70893-fc7a-4d38-db0a-a4aa2d6b5810"
      },
      "execution_count": 5,
      "outputs": [
        {
          "output_type": "stream",
          "name": "stdout",
          "text": [
            "True\n",
            "False\n",
            "False\n"
          ]
        }
      ]
    },
    {
      "cell_type": "markdown",
      "source": [
        "Python Operators"
      ],
      "metadata": {
        "id": "blIdAWddPjwx"
      }
    },
    {
      "cell_type": "code",
      "source": [
        "# Testing &= operator\n",
        "x = 5  # Binary: 0101\n",
        "x &= 3  # Binary: 0011 -> Result: 0001 (1)\n",
        "print(\"After &=, x =\", x)\n",
        "\n",
        "# Testing |= operator\n",
        "x = 5  # Reset x to 5 (Binary: 0101)\n",
        "x |= 3  # Binary: 0011 -> Result: 0111 (7)\n",
        "print(\"After |=, x =\", x)\n",
        "\n",
        "# Testing ^= operator\n",
        "x = 5  # Reset x to 5 (Binary: 0101)\n",
        "x ^= 3  # Binary: 0011 -> Result: 0110 (6)\n",
        "print(\"After ^=, x =\", x)\n",
        "\n",
        "# Testing >>= operator\n",
        "x = 16  # Binary: 10000\n",
        "x >>= 3  # Shift right by 3 -> Result: 00010 (2)\n",
        "print(\"After >>=, x =\", x)\n",
        "\n",
        "# Testing <<= operator\n",
        "x = 2  # Reset x to 2 (Binary: 00010)\n",
        "x <<= 3  # Shift left by 3 -> Result: 10000 (16)\n",
        "print(\"After <<=, x =\", x)\n",
        "\n",
        "# Testing := (Walrus Operator)\n",
        "# Assign and print in a single statement\n",
        "print(\"Walrus operator example, x =\", (x := 3))\n"
      ],
      "metadata": {
        "colab": {
          "base_uri": "https://localhost:8080/"
        },
        "id": "q5p1Cm4ePnCv",
        "outputId": "7a0efc21-df35-4d60-af27-909c867cf0f4"
      },
      "execution_count": 6,
      "outputs": [
        {
          "output_type": "stream",
          "name": "stdout",
          "text": [
            "After &=, x = 1\n",
            "After |=, x = 7\n",
            "After ^=, x = 6\n",
            "After >>=, x = 2\n",
            "After <<=, x = 16\n",
            "Walrus operator example, x = 3\n"
          ]
        }
      ]
    }
  ]
}